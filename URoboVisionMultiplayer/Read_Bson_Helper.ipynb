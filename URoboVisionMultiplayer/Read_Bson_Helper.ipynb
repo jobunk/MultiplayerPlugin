{
 "cells": [
  {
   "cell_type": "code",
   "execution_count": 1,
   "metadata": {},
   "outputs": [],
   "source": [
    "import os \n",
    "import bson\n",
    "import numpy as np\n"
   ]
  },
  {
   "cell_type": "markdown",
   "metadata": {},
   "source": [
    "## Find Bson File in given folder\n",
    "* Input bson file path and return file names"
   ]
  },
  {
   "cell_type": "code",
   "execution_count": 2,
   "metadata": {},
   "outputs": [],
   "source": [
    "## give the correct bson file folder path here\n",
    "file_path = \"E:/Work_AI/test/RobCoG/Vision Logger/2018_8_10_6_44/Cam01/Bson File/\"\n"
   ]
  },
  {
   "cell_type": "code",
   "execution_count": 3,
   "metadata": {},
   "outputs": [],
   "source": [
    "def read_bson_file(file_path):\n",
    "    file_names = []\n",
    "    if os.path.isdir(file_path):\n",
    "        for file in os.listdir(file_path):\n",
    "            print(file)\n",
    "            if file.endswith(\".bson\"):\n",
    "                file_name=file\n",
    "                file_names.append(file_name)\n",
    "                #data = bson.decode_file_iter(open(file_name,'rb'))\n",
    "                #print(\"Read data from bson file\")\n",
    "        \n",
    "        if len(file_name):\n",
    "            print(\"Read data from bson file\")\n",
    "            \n",
    "        else:\n",
    "            print(\"Don't contain any bson file in this folder\")\n",
    "            \n",
    "    else:\n",
    "        print(\"The given folder doesn't exist.Please give correct folder path\")\n",
    "    return file_names"
   ]
  },
  {
   "cell_type": "markdown",
   "metadata": {},
   "source": [
    "\n",
    "## Save all images in bson file in one folder"
   ]
  },
  {
   "cell_type": "code",
   "execution_count": 4,
   "metadata": {},
   "outputs": [],
   "source": [
    "def save_images_from_bson(FilePath,FileNames):\n",
    "    if len(FileNames):\n",
    "        for file in FileNames:\n",
    "            data = bson.decode_file_iter(open(FilePath+file,'rb'))\n",
    "            save_dir=\"../../Vision Logger/Bson_image_folder/\" + file[:-5] + \"/\"\n",
    "            if not os.path.exists(save_dir):\n",
    "                os.makedirs(save_dir)\n",
    "            while True:\n",
    "                try:\n",
    "                    data_dict = next(data)\n",
    "                    keys = data_dict.keys()\n",
    "                    camera_id = data_dict[\"Camera_Id\"]\n",
    "                    Time_stamp = data_dict[\"Time_Stamp\"]\n",
    "                    if \"Color Image\" in keys:\n",
    "                        color_img_dict = data_dict[\"Color Image\"]\n",
    "                        color_img_data = color_img_dict[\"Color_Image_Data\"]\n",
    "                        img_type = color_img_dict[\"type\"]\n",
    "                        color_name =save_dir+str(camera_id)+\"_\"+str(img_type)+\"_\"+str(Time_stamp)+\".png\"\n",
    "                        with open(color_name,\"wb\") as f:\n",
    "                            f.write(color_img_data)\n",
    "                    if \"Depth Image\" in keys:\n",
    "                        depth_img_dict = data_dict[\"Depth Image\"]\n",
    "                        depth_img_data = depth_img_dict[\"Depth_Image_Data\"]\n",
    "                        img_type = depth_img_dict[\"type\"]\n",
    "                        depth_name =save_dir+str(camera_id)+\"_\"+str(img_type)+\"_\"+str(Time_stamp)+\".png\"\n",
    "                        with open(depth_name,\"wb\") as f:\n",
    "                            f.write(depth_img_data)\n",
    "                    if \"Mask Image\" in keys:\n",
    "                        mask_img_dict = data_dict[\"Mask Image\"]\n",
    "                        mask_img_data = mask_img_dict[\"Mask_Image_Data\"]\n",
    "                        img_type = mask_img_dict[\"type\"]\n",
    "                        mask_name =save_dir+str(camera_id)+\"_\"+str(img_type)+\"_\"+str(Time_stamp)+\".png\"\n",
    "                        with open(mask_name,\"wb\") as f:\n",
    "                            f.write(mask_img_data)  \n",
    "                            \n",
    "                    if \"Normal Image\" in keys:\n",
    "                        depth_img_dict = data_dict[\"Normal Image\"]\n",
    "                        depth_img_data = depth_img_dict[\"Normal_Image_Data\"]\n",
    "                        img_type = depth_img_dict[\"type\"]\n",
    "                        depth_name =save_dir+str(camera_id)+\"_\"+str(img_type)+\"_\"+str(Time_stamp)+\".png\"\n",
    "                        with open(depth_name,\"wb\") as f:\n",
    "                            f.write(depth_img_data)\n",
    "                    print(\"Saving image\")\n",
    "                except:\n",
    "                    print(\"All images in {} has been saved in local disk\".format(file))\n",
    "                    break\n",
    "    else:\n",
    "        print(\"No bson file is found in this folder\")"
   ]
  },
  {
   "cell_type": "code",
   "execution_count": null,
   "metadata": {},
   "outputs": [],
   "source": []
  },
  {
   "cell_type": "markdown",
   "metadata": {},
   "source": [
    "## Final function to do task above"
   ]
  },
  {
   "cell_type": "code",
   "execution_count": 5,
   "metadata": {},
   "outputs": [],
   "source": [
    "def Read_Save_Image_in_Bson(file_path):\n",
    "    filenames = read_bson_file(file_path)\n",
    "    save_images_from_bson(file_path,filenames)"
   ]
  },
  {
   "cell_type": "markdown",
   "metadata": {},
   "source": [
    "### After calling the function below you should be able to see a folder called Bson_image_folder in Vision Logger which contains all images."
   ]
  },
  {
   "cell_type": "code",
   "execution_count": 6,
   "metadata": {},
   "outputs": [
    {
     "name": "stdout",
     "output_type": "stream",
     "text": [
      "Cam01_44_56.bson\n",
      "Cam01_45_12.bson\n",
      "Cam01_46_13.bson\n",
      "Read data from bson file\n",
      "Saving image\n",
      "Saving image\n",
      "Saving image\n",
      "Saving image\n",
      "Saving image\n",
      "Saving image\n",
      "All images in Cam01_44_56.bson has been saved in local disk\n",
      "Saving image\n",
      "Saving image\n",
      "Saving image\n",
      "Saving image\n",
      "Saving image\n",
      "Saving image\n",
      "Saving image\n",
      "Saving image\n",
      "Saving image\n",
      "All images in Cam01_45_12.bson has been saved in local disk\n",
      "Saving image\n",
      "Saving image\n",
      "Saving image\n",
      "Saving image\n",
      "Saving image\n",
      "Saving image\n",
      "Saving image\n",
      "Saving image\n",
      "Saving image\n",
      "Saving image\n",
      "Saving image\n",
      "Saving image\n",
      "Saving image\n",
      "Saving image\n",
      "Saving image\n",
      "Saving image\n",
      "Saving image\n",
      "Saving image\n",
      "Saving image\n",
      "Saving image\n",
      "Saving image\n",
      "Saving image\n",
      "Saving image\n",
      "Saving image\n",
      "Saving image\n",
      "All images in Cam01_46_13.bson has been saved in local disk\n"
     ]
    }
   ],
   "source": [
    "Read_Save_Image_in_Bson(file_path)"
   ]
  },
  {
   "cell_type": "markdown",
   "metadata": {},
   "source": []
  },
  {
   "cell_type": "code",
   "execution_count": null,
   "metadata": {},
   "outputs": [],
   "source": []
  },
  {
   "cell_type": "code",
   "execution_count": null,
   "metadata": {},
   "outputs": [],
   "source": []
  },
  {
   "cell_type": "code",
   "execution_count": null,
   "metadata": {},
   "outputs": [],
   "source": []
  },
  {
   "cell_type": "code",
   "execution_count": null,
   "metadata": {},
   "outputs": [],
   "source": []
  },
  {
   "cell_type": "code",
   "execution_count": null,
   "metadata": {},
   "outputs": [],
   "source": []
  },
  {
   "cell_type": "code",
   "execution_count": null,
   "metadata": {},
   "outputs": [],
   "source": []
  },
  {
   "cell_type": "code",
   "execution_count": null,
   "metadata": {},
   "outputs": [],
   "source": []
  },
  {
   "cell_type": "code",
   "execution_count": null,
   "metadata": {},
   "outputs": [],
   "source": []
  }
 ],
 "metadata": {
  "kernelspec": {
   "display_name": "Python 3",
   "language": "python",
   "name": "python3"
  },
  "language_info": {
   "codemirror_mode": {
    "name": "ipython",
    "version": 3
   },
   "file_extension": ".py",
   "mimetype": "text/x-python",
   "name": "python",
   "nbconvert_exporter": "python",
   "pygments_lexer": "ipython3",
   "version": "3.5.3"
  }
 },
 "nbformat": 4,
 "nbformat_minor": 2
}
